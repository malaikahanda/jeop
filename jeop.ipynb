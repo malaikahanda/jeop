{
 "cells": [
  {
   "cell_type": "code",
   "execution_count": 2,
   "metadata": {},
   "outputs": [],
   "source": [
    "import requests\n",
    "from bs4 import BeautifulSoup\n",
    "import re"
   ]
  },
  {
   "cell_type": "code",
   "execution_count": 3,
   "metadata": {},
   "outputs": [],
   "source": [
    "class Game(object):\n",
    "    \n",
    "    def __init__(self, url):\n",
    "        \"\"\"Class to hold and parse data from a single Jeopardy game.\"\"\"\n",
    "        self._url = url\n",
    "        self._game_id = url.split(\"=\")[1]\n",
    "        self._page = requests.get(url)\n",
    "        self._parsed_page = BeautifulSoup(self._page.content, \"lxml\")\n",
    "        \n",
    "    def get_questions(self, round_name):\n",
    "        \"\"\"Method to return all of the questions and answers for a given round.\n",
    "        \n",
    "        Args:\n",
    "          round_name: (string) one of jeopardy, double_jeopardy, final_jeopardy.\n",
    "        \n",
    "        Returns:\n",
    "          list of (question, answer) tuples, unformatted.\n",
    "        \"\"\"\n",
    "        assert round_name in [\"jeopardy\", \"double_jeopardy\", \"final_jeopardy\"]\n",
    "        \n",
    "        table = self._parsed_page.find_all(id=round_name + \"_round\")\n",
    "        assert(len(table) == 1)\n",
    "        \n",
    "        questions = []\n",
    "        clues = table[0].find_all(class_=\"clue\")\n",
    "        if round_name == \"final_jeopardy\":\n",
    "            assert(len(clues) == 1)\n",
    "        else:\n",
    "            assert(len(clues) == 30)\n",
    "            \n",
    "        for clue in clues:\n",
    "            question = clue.find(class_=\"clue_text\")\n",
    "            answer = str(clue).split(\"correct_response\")[1].split(\"/\")[0].split(\";\")[-2][:-3]  # I'm not happy about this.\n",
    "            questions.append((question.text, answer))\n",
    "            \n",
    "        return questions"
   ]
  },
  {
   "cell_type": "code",
   "execution_count": 4,
   "metadata": {},
   "outputs": [],
   "source": [
    "class Season(object):\n",
    "    \n",
    "    def __init__(self, url):\n",
    "        \"\"\"Class to parse data for a season of Jeopardy.\"\"\"\n",
    "        self._url = url\n",
    "        self._page = requests.get(url)\n",
    "        self._parsed_page = BeautifulSoup(self._page.content, \"lxml\")\n",
    "        \n",
    "    def get_links(self):\n",
    "        elements = self._parsed_page.find_all(\"a\")\n",
    "        all_links = [e.get(\"href\") for e in elements]\n",
    "        links = [l for l in all_links if \"game_id\" in l]\n",
    "        return links"
   ]
  },
  {
   "cell_type": "code",
   "execution_count": 10,
   "metadata": {},
   "outputs": [
    {
     "name": "stdout",
     "output_type": "stream",
     "text": [
      "Initialized Jeopardy object.\n",
      "Finished getting seasons.\n",
      "Parsing 41 seasons...\n",
      "Parsing 0th season...\n",
      "Parsing 1th season...\n",
      "Parsing 2th season...\n"
     ]
    },
    {
     "ename": "TypeError",
     "evalue": "a bytes-like object is required, not 'str'",
     "output_type": "error",
     "traceback": [
      "\u001b[1;31m---------------------------------------------------------------------------\u001b[0m",
      "\u001b[1;31mTypeError\u001b[0m                                 Traceback (most recent call last)",
      "\u001b[1;32m<ipython-input-10-18a9af53a0a3>\u001b[0m in \u001b[0;36m<module>\u001b[1;34m()\u001b[0m\n\u001b[0;32m     49\u001b[0m \u001b[0mj\u001b[0m\u001b[1;33m.\u001b[0m\u001b[0mget_seasons\u001b[0m\u001b[1;33m(\u001b[0m\u001b[1;33m)\u001b[0m\u001b[1;33m\u001b[0m\u001b[0m\n\u001b[0;32m     50\u001b[0m \u001b[0mprint\u001b[0m\u001b[1;33m(\u001b[0m\u001b[1;34m\"Finished getting seasons.\"\u001b[0m\u001b[1;33m)\u001b[0m\u001b[1;33m\u001b[0m\u001b[0m\n\u001b[1;32m---> 51\u001b[1;33m \u001b[0mqs\u001b[0m \u001b[1;33m=\u001b[0m \u001b[0mj\u001b[0m\u001b[1;33m.\u001b[0m\u001b[0mget_questions\u001b[0m\u001b[1;33m(\u001b[0m\u001b[1;33m)\u001b[0m\u001b[1;33m\u001b[0m\u001b[0m\n\u001b[0m",
      "\u001b[1;32m<ipython-input-10-18a9af53a0a3>\u001b[0m in \u001b[0;36mget_questions\u001b[1;34m(self)\u001b[0m\n\u001b[0;32m     29\u001b[0m             \u001b[0mlinks\u001b[0m \u001b[1;33m=\u001b[0m \u001b[0ms\u001b[0m\u001b[1;33m.\u001b[0m\u001b[0mget_links\u001b[0m\u001b[1;33m(\u001b[0m\u001b[1;33m)\u001b[0m\u001b[1;33m\u001b[0m\u001b[0m\n\u001b[0;32m     30\u001b[0m             \u001b[1;32mfor\u001b[0m \u001b[0mlink\u001b[0m \u001b[1;32min\u001b[0m \u001b[0ms\u001b[0m\u001b[1;33m.\u001b[0m\u001b[0mget_links\u001b[0m\u001b[1;33m(\u001b[0m\u001b[1;33m)\u001b[0m\u001b[1;33m:\u001b[0m\u001b[1;33m\u001b[0m\u001b[0m\n\u001b[1;32m---> 31\u001b[1;33m                 \u001b[0mself\u001b[0m\u001b[1;33m.\u001b[0m\u001b[0m_save\u001b[0m\u001b[1;33m(\u001b[0m\u001b[1;33m)\u001b[0m\u001b[1;33m\u001b[0m\u001b[0m\n\u001b[0m\u001b[0;32m     32\u001b[0m                 \u001b[0mg\u001b[0m \u001b[1;33m=\u001b[0m \u001b[0mGame\u001b[0m\u001b[1;33m(\u001b[0m\u001b[0mlink\u001b[0m\u001b[1;33m)\u001b[0m\u001b[1;33m\u001b[0m\u001b[0m\n\u001b[0;32m     33\u001b[0m                 \u001b[1;32mtry\u001b[0m\u001b[1;33m:\u001b[0m\u001b[1;33m\u001b[0m\u001b[0m\n",
      "\u001b[1;32m<ipython-input-10-18a9af53a0a3>\u001b[0m in \u001b[0;36m_save\u001b[1;34m(self)\u001b[0m\n\u001b[0;32m     18\u001b[0m         \u001b[0mout\u001b[0m \u001b[1;33m=\u001b[0m \u001b[1;34m\"\\n\"\u001b[0m\u001b[1;33m.\u001b[0m\u001b[0mjoin\u001b[0m\u001b[1;33m(\u001b[0m\u001b[1;33m[\u001b[0m\u001b[1;34m\"{}\\n{}\\n\"\u001b[0m\u001b[1;33m.\u001b[0m\u001b[0mformat\u001b[0m\u001b[1;33m(\u001b[0m\u001b[0mq\u001b[0m\u001b[1;33m,\u001b[0m \u001b[0ma\u001b[0m\u001b[1;33m)\u001b[0m \u001b[1;32mfor\u001b[0m \u001b[0mq\u001b[0m\u001b[1;33m,\u001b[0m \u001b[0ma\u001b[0m \u001b[1;32min\u001b[0m \u001b[0mself\u001b[0m\u001b[1;33m.\u001b[0m\u001b[0m_questions\u001b[0m\u001b[1;33m]\u001b[0m\u001b[1;33m)\u001b[0m\u001b[1;33m\u001b[0m\u001b[0m\n\u001b[0;32m     19\u001b[0m         \u001b[1;32mwith\u001b[0m \u001b[0mopen\u001b[0m\u001b[1;33m(\u001b[0m\u001b[1;34m\"qs.txt\"\u001b[0m\u001b[1;33m,\u001b[0m \u001b[1;34m\"wb\"\u001b[0m\u001b[1;33m)\u001b[0m \u001b[1;32mas\u001b[0m \u001b[0mf\u001b[0m\u001b[1;33m:\u001b[0m\u001b[1;33m\u001b[0m\u001b[0m\n\u001b[1;32m---> 20\u001b[1;33m             \u001b[0mf\u001b[0m\u001b[1;33m.\u001b[0m\u001b[0mwrite\u001b[0m\u001b[1;33m(\u001b[0m\u001b[0mout\u001b[0m\u001b[1;33m)\u001b[0m\u001b[1;33m\u001b[0m\u001b[0m\n\u001b[0m\u001b[0;32m     21\u001b[0m \u001b[1;33m\u001b[0m\u001b[0m\n\u001b[0;32m     22\u001b[0m     \u001b[1;32mdef\u001b[0m \u001b[0mget_questions\u001b[0m\u001b[1;33m(\u001b[0m\u001b[0mself\u001b[0m\u001b[1;33m)\u001b[0m\u001b[1;33m:\u001b[0m\u001b[1;33m\u001b[0m\u001b[0m\n",
      "\u001b[1;31mTypeError\u001b[0m: a bytes-like object is required, not 'str'"
     ]
    }
   ],
   "source": [
    "class Jeopardy(object):\n",
    "    \n",
    "    def __init__(self):\n",
    "        self._url = \"http://www.j-archive.com/listseasons.php\"\n",
    "        self._page = requests.get(self._url)\n",
    "        self._parsed_page = BeautifulSoup(self._page.content, \"lxml\")\n",
    "        self._season_links = []\n",
    "        self._questions = []\n",
    "        \n",
    "    def get_seasons(self):\n",
    "        elements = self._parsed_page.find_all(\"a\")\n",
    "        all_links = [e.get(\"href\") for e in elements]\n",
    "        links = [l for l in all_links if \"showseason\" in l]\n",
    "        formatted_links = [\"http://www.j-archive.com/{}\".format(l) for l in links]\n",
    "        self._season_links = formatted_links\n",
    "        \n",
    "    def _save(self):\n",
    "        out = \"\\n\".join([\"{}\\n{}\\n\".format(q, a) for q, a in self._questions])\n",
    "        with open(\"qs.txt\", \"wb\") as f:\n",
    "            f.write(out)\n",
    "        \n",
    "    def get_questions(self):\n",
    "        assert len(self._season_links) != 0\n",
    "        print(\"Parsing {} seasons...\".format(len(self._season_links)))\n",
    "        \n",
    "        for i, link in enumerate(self._season_links):\n",
    "            print(\"Parsing {}th season...\".format(i))\n",
    "            s = Season(link)\n",
    "            links = s.get_links()\n",
    "            for link in s.get_links():\n",
    "                self._save()\n",
    "                g = Game(link)\n",
    "                try:\n",
    "                    self._questions.extend(g.get_questions(\"jeopardy\"))\n",
    "                except:\n",
    "                    print(\"jeopardy\", link)\n",
    "                try:\n",
    "                    self._questions.extend(g.get_questions(\"double_jeopardy\"))\n",
    "                except:\n",
    "                    print(\"double_jeopardy\", link)\n",
    "                try:\n",
    "                    self._questions.extend(g.get_questions(\"final_jeopardy\"))\n",
    "                except:\n",
    "                    print(\"final_jeopardy\", link)\n",
    "                del g\n",
    "    \n",
    "j = Jeopardy()\n",
    "print(\"Initialized Jeopardy object.\")\n",
    "j.get_seasons()\n",
    "print(\"Finished getting seasons.\")\n",
    "qs = j.get_questions()\n"
   ]
  },
  {
   "cell_type": "code",
   "execution_count": null,
   "metadata": {},
   "outputs": [],
   "source": []
  },
  {
   "cell_type": "code",
   "execution_count": null,
   "metadata": {},
   "outputs": [],
   "source": []
  }
 ],
 "metadata": {
  "kernelspec": {
   "display_name": "Python 3",
   "language": "python",
   "name": "python3"
  },
  "language_info": {
   "codemirror_mode": {
    "name": "ipython",
    "version": 3
   },
   "file_extension": ".py",
   "mimetype": "text/x-python",
   "name": "python",
   "nbconvert_exporter": "python",
   "pygments_lexer": "ipython3",
   "version": "3.6.4"
  }
 },
 "nbformat": 4,
 "nbformat_minor": 2
}
