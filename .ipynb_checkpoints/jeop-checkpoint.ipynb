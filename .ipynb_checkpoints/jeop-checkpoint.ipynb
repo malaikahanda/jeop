{
 "cells": [
  {
   "cell_type": "code",
   "execution_count": 28,
   "metadata": {},
   "outputs": [],
   "source": [
    "import requests\n",
    "from bs4 import BeautifulSoup\n",
    "import re"
   ]
  },
  {
   "cell_type": "code",
   "execution_count": 95,
   "metadata": {},
   "outputs": [],
   "source": [
    "class Game(object):\n",
    "    \n",
    "    def __init__(self, url):\n",
    "        \"\"\"Class to hold and parse data from a single Jeopardy game.\"\"\"\n",
    "        self._url = url\n",
    "        self._game_id = url.split(\"=\")[1]\n",
    "        self._page = requests.get(url)\n",
    "        self._parsed_page = BeautifulSoup(self._page.content, \"lxml\")\n",
    "        \n",
    "    def get_questions(self, round_name):\n",
    "        \"\"\"Method to return all of the questions and answers for a given round.\n",
    "        \n",
    "        Args:\n",
    "          round_name: (string) one of jeopardy, double_jeopardy, final_jeopardy.\n",
    "        \n",
    "        Returns:\n",
    "          list of (question, answer) tuples, unformatted.\n",
    "        \"\"\"\n",
    "        assert round_name in [\"jeopardy\", \"double_jeopardy\", \"final_jeopardy\"]\n",
    "        \n",
    "        table = self._parsed_page.find_all(id=round_name + \"_round\")\n",
    "        assert(len(table) == 1)\n",
    "        \n",
    "        questions = []\n",
    "        clues = table[0].find_all(class_=\"clue\")\n",
    "        if round_name == \"final_jeopardy\":\n",
    "            assert(len(clues) == 1)\n",
    "        else:\n",
    "            assert(len(clues) == 30)\n",
    "            \n",
    "        for clue in clues:\n",
    "            question = clue.find(class_=\"clue_text\")\n",
    "            answer = str(clue).split(\"correct_response\")[1].split(\"/\")[0].split(\";\")[-2][:-3]  # I'm not happy about this.\n",
    "            questions.append((question.text, answer))\n",
    "            \n",
    "        return questions"
   ]
  },
  {
   "cell_type": "code",
   "execution_count": 103,
   "metadata": {},
   "outputs": [],
   "source": [
    "class Season(object):\n",
    "    \n",
    "    def __init__(self, url):\n",
    "        \"\"\"Class to parse data for a season of Jeopardy.\"\"\"\n",
    "        self._url = url\n",
    "        self._page = requests.get(url)\n",
    "        self._parsed_page = BeautifulSoup(self._page.content, \"lxml\")\n",
    "        \n",
    "    def get_links(self):\n",
    "        elements = self._parsed_page.find_all(\"a\")\n",
    "        all_links = [e.get(\"href\") for e in elements]\n",
    "        links = [l for l in all_links if \"game_id\" in l]\n",
    "        return links"
   ]
  },
  {
   "cell_type": "code",
   "execution_count": null,
   "metadata": {},
   "outputs": [],
   "source": []
  }
 ],
 "metadata": {
  "kernelspec": {
   "display_name": "Python 3",
   "language": "python",
   "name": "python3"
  },
  "language_info": {
   "codemirror_mode": {
    "name": "ipython",
    "version": 3
   },
   "file_extension": ".py",
   "mimetype": "text/x-python",
   "name": "python",
   "nbconvert_exporter": "python",
   "pygments_lexer": "ipython3",
   "version": "3.6.4"
  }
 },
 "nbformat": 4,
 "nbformat_minor": 2
}
